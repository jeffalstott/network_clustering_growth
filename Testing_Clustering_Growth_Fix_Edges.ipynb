{
 "metadata": {
  "name": "",
  "signature": "sha256:2a5ac425ea49f713d16afebe5ee21ece0d59a3b598c55f7637d5ed3f4cf1ae43"
 },
 "nbformat": 3,
 "nbformat_minor": 0,
 "worksheets": [
  {
   "cells": [
    {
     "cell_type": "code",
     "collapsed": false,
     "input": [
      "import networkx as nx\n",
      "\n",
      "def nt_np(G):\n",
      "    triangles=0 # 6 times number of triangles\n",
      "    contri=0  # 2 times number of connected triples\n",
      "    for v,d,t in nx.algorithms.cluster._triangles_and_degree_iter(G):\n",
      "        contri += d*(d-1)\n",
      "        triangles += t\n",
      "    if triangles==0: # we had no triangles or possible triangles\n",
      "        return 0.0, float(contri)\n",
      "    else:\n",
      "        return triangles/6.0, float(contri)/2.0\n",
      "\n",
      "def find_door(g, hinges, A2):\n",
      "    neighbors = A2[array(hinges)]\n",
      "    neighbors_t_order = argsort(neighbors.flatten())\n",
      "    \n",
      "    for e in arange(g.number_of_nodes()*2):\n",
      "        t_index = neighbors_t_order[e] \n",
      "        i,x = unravel_index(t_index, shape(neighbors))\n",
      "        hinge = hinges[i]\n",
      "        y = hinges[not i]\n",
      "        \n",
      "        w = A2[hinge, y]\n",
      "        t = A2[hinge, x]\n",
      "        \n",
      "        if w<=t:\n",
      "            break\n",
      "    \n",
      "        if g.has_edge(hinge,x) and g.degree(x) > g.degree(y) and not g.edge[hinge][x]['fixed']:\n",
      "            return hinge, x, y\n",
      "    return None, None, None\n",
      "\n",
      "def swing_door(g, hinge, x, y):\n",
      "    g.remove_edge(hinge, x)\n",
      "    g.add_edge(hinge, y, fixed=True)\n",
      "    return g\n",
      "\n",
      "def one_move(g, A2):\n",
      "    w_order = argsort(A2.flatten())[::-1]\n",
      "    A = nx.adjacency_matrix(g)\n",
      "    edge_list = array(A).flatten()\n",
      "    for w_index in w_order:\n",
      "        if edge_list[w_index]:\n",
      "            continue\n",
      "\n",
      "        hinges = unravel_index(w_index, shape(A2))\n",
      "\n",
      "        hinge, x, y = find_door(g, hinges, A2)\n",
      "        if hinge:\n",
      "            g = swing_door(g, hinge, x, y)\n",
      "            return g, hinge, x, y\n",
      "    return None"
     ],
     "language": "python",
     "metadata": {},
     "outputs": [],
     "prompt_number": 1
    },
    {
     "cell_type": "code",
     "collapsed": false,
     "input": [
      "n_nodes = 100\n",
      "p =.005\n",
      "p = 1.5*log(n_nodes)/n_nodes\n",
      "g = nx.erdos_renyi_graph(n=n_nodes, p=p)\n",
      "#g = random_graphs.erdos_renyi_graph(n=n_nodes, p=p)\n",
      "try_count = 1\n",
      "max_tries = 1000\n",
      "while not nx.is_connected(g):\n",
      "    g = nx.erdos_renyi_graph(n=n_nodes, p=p)\n",
      "    try_count += 1\n",
      "    if try_count>max_tries:\n",
      "        print(\"Can't make a connected graph. Tried %i times.\"%max_tries)\n",
      "        break"
     ],
     "language": "python",
     "metadata": {},
     "outputs": [],
     "prompt_number": 3
    },
    {
     "cell_type": "code",
     "collapsed": false,
     "input": [
      "nt, np = nt_np(g)\n",
      "\n",
      "A = nx.adjacency_matrix(g)\n",
      "A2 = A**2\n",
      "\n",
      "change_percentage = 1\n",
      "n_trials = floor(change_percentage*g.number_of_edges())\n",
      "Cs = [nt/np]\n",
      "C_locals = [nx.average_clustering(g)]\n",
      "mean_k = [mean(g.degree().values())]\n",
      "pl = [nx.average_shortest_path_length(g)]\n",
      "\n",
      "initial_degrees = g.degree().values()"
     ],
     "language": "python",
     "metadata": {},
     "outputs": [],
     "prompt_number": 13
    },
    {
     "cell_type": "code",
     "collapsed": false,
     "input": [
      "for i,j in g.edges_iter():\n",
      "    g[i][j]['fixed'] = False\n",
      "\n",
      "print(\"Attempting %i trials\"%n_trials)\n",
      "for k in arange(n_trials):\n",
      "    #print k\n",
      "    if not k%10:\n",
      "        print(\"Rewiring %i out of %i-----------------------------------\"%(k,n_trials))\n",
      "\n",
      "    A2 = array(A2)\n",
      "    fill_diagonal(A2, 0)\n",
      "\n",
      "    outputs = one_move(g, A2)\n",
      "    if not outputs:\n",
      "        print(\"Couldn't make a move!\")\n",
      "        break\n",
      "    else:\n",
      "        g, hinge, x, y = outputs\n",
      "    \n",
      "    w = A2[hinge, y]\n",
      "    t = A2[hinge, x]\n",
      "    #nt = nt + w - t\n",
      "    #np = np + g.degree(y) - g.degree(x) + 1 \n",
      "    nt, np = nt_np(g)\n",
      "    A = nx.adjacency_matrix(g)\n",
      "    A2 = A**2 #To be accelerated by A2(new) = A2(old) + AN + NA + N**2 where N is A(new)-A(old)\n",
      "#     N = zeros(shape(A))\n",
      "#     N[hinge,x] = N[x, hinge] = 1\n",
      "#     N[hinge,y] = N[y, hinge] = -1\n",
      "#     A2 = A2 + AN + NA + N**2\n",
      "    mean_k.append(mean(g.degree().values()))\n",
      "    Cs.append(nt/np)\n",
      "    pl.append(nx.average_shortest_path_length(g))\n",
      "    C_locals.append(nx.average_clustering(g))\n",
      "    #if not k%10:\n",
      "        #figure()\n",
      "        #nx.draw_spectral(g)"
     ],
     "language": "python",
     "metadata": {},
     "outputs": [
      {
       "output_type": "stream",
       "stream": "stdout",
       "text": [
        "Attempting 346 trials\n",
        "Rewiring 0 out of 346-----------------------------------\n",
        "Rewiring 10 out of 346-----------------------------------"
       ]
      },
      {
       "output_type": "stream",
       "stream": "stdout",
       "text": [
        "\n",
        "Rewiring 20 out of 346-----------------------------------"
       ]
      },
      {
       "output_type": "stream",
       "stream": "stdout",
       "text": [
        "\n",
        "Rewiring 30 out of 346-----------------------------------"
       ]
      },
      {
       "output_type": "stream",
       "stream": "stdout",
       "text": [
        "\n",
        "Rewiring 40 out of 346-----------------------------------"
       ]
      },
      {
       "output_type": "stream",
       "stream": "stdout",
       "text": [
        "\n",
        "Rewiring 50 out of 346-----------------------------------"
       ]
      },
      {
       "output_type": "stream",
       "stream": "stdout",
       "text": [
        "\n",
        "Rewiring 60 out of 346-----------------------------------"
       ]
      },
      {
       "output_type": "stream",
       "stream": "stdout",
       "text": [
        "\n",
        "Rewiring 70 out of 346-----------------------------------"
       ]
      },
      {
       "output_type": "stream",
       "stream": "stdout",
       "text": [
        "\n",
        "Rewiring 80 out of 346-----------------------------------"
       ]
      },
      {
       "output_type": "stream",
       "stream": "stdout",
       "text": [
        "\n",
        "Rewiring 90 out of 346-----------------------------------"
       ]
      },
      {
       "output_type": "stream",
       "stream": "stdout",
       "text": [
        "\n",
        "Rewiring 100 out of 346-----------------------------------"
       ]
      },
      {
       "output_type": "stream",
       "stream": "stdout",
       "text": [
        "\n",
        "Rewiring 110 out of 346-----------------------------------"
       ]
      },
      {
       "output_type": "stream",
       "stream": "stdout",
       "text": [
        "\n",
        "Rewiring 120 out of 346-----------------------------------"
       ]
      },
      {
       "output_type": "stream",
       "stream": "stdout",
       "text": [
        "\n",
        "Rewiring 130 out of 346-----------------------------------"
       ]
      },
      {
       "output_type": "stream",
       "stream": "stdout",
       "text": [
        "\n",
        "Rewiring 140 out of 346-----------------------------------"
       ]
      },
      {
       "output_type": "stream",
       "stream": "stdout",
       "text": [
        "\n",
        "Rewiring 150 out of 346-----------------------------------"
       ]
      },
      {
       "output_type": "stream",
       "stream": "stdout",
       "text": [
        "\n",
        "Rewiring 160 out of 346-----------------------------------"
       ]
      },
      {
       "output_type": "stream",
       "stream": "stdout",
       "text": [
        "\n",
        "Rewiring 170 out of 346-----------------------------------"
       ]
      },
      {
       "output_type": "stream",
       "stream": "stdout",
       "text": [
        "\n",
        "Rewiring 180 out of 346-----------------------------------"
       ]
      },
      {
       "output_type": "stream",
       "stream": "stdout",
       "text": [
        "\n",
        "Rewiring 190 out of 346-----------------------------------"
       ]
      },
      {
       "output_type": "stream",
       "stream": "stdout",
       "text": [
        "\n",
        "Rewiring 200 out of 346-----------------------------------"
       ]
      },
      {
       "output_type": "stream",
       "stream": "stdout",
       "text": [
        "\n",
        "Rewiring 210 out of 346-----------------------------------"
       ]
      },
      {
       "output_type": "stream",
       "stream": "stdout",
       "text": [
        "\n",
        "Rewiring 220 out of 346-----------------------------------"
       ]
      },
      {
       "output_type": "stream",
       "stream": "stdout",
       "text": [
        "\n",
        "Rewiring 230 out of 346-----------------------------------"
       ]
      },
      {
       "output_type": "stream",
       "stream": "stdout",
       "text": [
        "\n",
        "Rewiring 240 out of 346-----------------------------------"
       ]
      },
      {
       "output_type": "stream",
       "stream": "stdout",
       "text": [
        "\n",
        "Rewiring 250 out of 346-----------------------------------"
       ]
      },
      {
       "output_type": "stream",
       "stream": "stdout",
       "text": [
        "\n",
        "Rewiring 260 out of 346-----------------------------------"
       ]
      },
      {
       "output_type": "stream",
       "stream": "stdout",
       "text": [
        "\n",
        "Couldn't make a move!"
       ]
      },
      {
       "output_type": "stream",
       "stream": "stdout",
       "text": [
        "\n"
       ]
      }
     ],
     "prompt_number": 14
    },
    {
     "cell_type": "code",
     "collapsed": false,
     "input": [
      "print(\"Rewired %.1f percent of edges\"%(100*float(k)/n_trials))"
     ],
     "language": "python",
     "metadata": {},
     "outputs": [
      {
       "output_type": "stream",
       "stream": "stdout",
       "text": [
        "Rewired 75.4 percent of edges\n"
       ]
      }
     ],
     "prompt_number": 15
    },
    {
     "cell_type": "code",
     "collapsed": false,
     "input": [
      "end_degrees = g.degree().values()"
     ],
     "language": "python",
     "metadata": {},
     "outputs": [],
     "prompt_number": 16
    },
    {
     "cell_type": "code",
     "collapsed": false,
     "input": [
      "Cs = array(Cs)\n",
      "C_locals = array(C_locals)\n",
      "\n",
      "plot(arange(k+1)/k,Cs/Cs[0], color='b', label=\"Clustering\")\n",
      "ylabel(\"Total Clustering\", color='b')\n",
      "twinx()\n",
      "plot(arange(k+1)/k, C_locals/C_locals[0], color='r', label=\"Clustering Local\")\n",
      "ylabel(\"Average Local Clustering\", color='r')\n",
      "title(\"Clustering Goes Up, With Two Definitions\")\n",
      "xlabel(\"Percent of Rewirings\")"
     ],
     "language": "python",
     "metadata": {},
     "outputs": [
      {
       "metadata": {},
       "output_type": "pyout",
       "prompt_number": 17,
       "text": [
        "<matplotlib.text.Text at 0x10627edd0>"
       ]
      },
      {
       "metadata": {},
       "output_type": "display_data",
       "png": "[encoded data removed]",
       "text": [
        "<matplotlib.figure.Figure at 0x105ef4410>"
       ]
      }
     ],
     "prompt_number": 17
    },
    {
     "cell_type": "code",
     "collapsed": false,
     "input": [
      "Cs = array(Cs)\n",
      "C_locals = array(C_locals)\n",
      "\n",
      "plot(arange(k+1)/k,Cs/Cs[0], color='b', label=\"Total (Triange Density)\")\n",
      "#ylabel(\"Total Clustering\", color='b')\n",
      "plot(arange(k+1)/k, C_locals/C_locals[0], color='r', label=\"Avg. Local\")\n",
      "#ylabel(\"Average Local Clustering\", color='r')\n",
      "ylabel(\"Clustering Increase From Initial\")\n",
      "title(\"Clustering Goes Up, With Two Definitions\")\n",
      "xlabel(\"Percent of Rewirings\")\n",
      "\n",
      "lg = legend(loc=4)\n",
      "lg.draw_frame(False)\n",
      "\n",
      "ax = gca()\n",
      "ax.spines['top'].set_visible(False)\n",
      "ax.spines['right'].set_visible(False)\n",
      "ax.get_xaxis().tick_bottom()\n",
      "ax.get_yaxis().tick_left()\n",
      "\n",
      "savefig(\"Model-Clustering_Increases.pdf\")"
     ],
     "language": "python",
     "metadata": {},
     "outputs": [
      {
       "metadata": {},
       "output_type": "display_data",
       "png": "[encoded data removed]",
       "text": [
        "<matplotlib.figure.Figure at 0x10613e450>"
       ]
      }
     ],
     "prompt_number": 18
    },
    {
     "cell_type": "code",
     "collapsed": false,
     "input": [
      "Cs = array(Cs)\n",
      "pl = array(pl)\n",
      "\n",
      "plot(arange(k+1)/k,Cs/Cs[0], color='b', label=\"Clustering\")\n",
      "ylabel(\"Total Clustering\", color='b')\n",
      "xlabel(\"Percent of Rewirings\")\n",
      "ax = gca()\n",
      "ax.spines['top'].set_visible(False)\n",
      "ax.get_xaxis().tick_bottom()\n",
      "\n",
      "\n",
      "twinx()\n",
      "plot(arange(k+1)/k, pl/pl[0], color='r', label=\"Average Path Length\")\n",
      "ylabel(\"Average Path Length\", color='r')\n",
      "\n",
      "title(\"Path Length Also Increases, Though More Slowly\")\n",
      "\n",
      "\n",
      "ax = gca()\n",
      "ax.spines['top'].set_visible(False)\n",
      "ax.get_xaxis().tick_bottom()\n",
      "\n",
      "savefig(\"Model-Clustering_vs_Path_Length.pdf\")"
     ],
     "language": "python",
     "metadata": {},
     "outputs": [
      {
       "metadata": {},
       "output_type": "display_data",
       "png": "[encoded data removed]",
       "text": [
        "<matplotlib.figure.Figure at 0x105f49c90>"
       ]
      }
     ],
     "prompt_number": 19
    },
    {
     "cell_type": "code",
     "collapsed": false,
     "input": [
      "Gamma = Cs/Cs[0]\n",
      "Lambda = pl/pl[0]\n",
      "\n",
      "swi = Gamma/Lambda\n",
      "\n",
      "f = figure()\n",
      "ax = f.add_subplot(1,1,1)\n",
      "x = arange(k+1)/k\n",
      "plot(x,swi)\n",
      "text(.7, .5, \"Clustering / Path Length,\\nCompared to Random\", transform=ax.transAxes, horizontalalignment='center')\n",
      "ylabel(\"Small World Index\")\n",
      "xlabel(\"Percent of Rewirings\")\n",
      "title(\"Small World Index Grows with Rewiring, then Plateaus\")\n",
      "\n",
      "ax = gca()\n",
      "ax.spines['top'].set_visible(False)\n",
      "ax.spines['right'].set_visible(False)\n",
      "ax.get_xaxis().tick_bottom()\n",
      "ax.get_yaxis().tick_left()\n",
      "\n",
      "savefig(\"Model-Small_World_Index.pdf\")\n",
      "\n"
     ],
     "language": "python",
     "metadata": {},
     "outputs": [
      {
       "metadata": {},
       "output_type": "display_data",
       "png": "[encoded data removed]",
       "text": [
        "<matplotlib.figure.Figure at 0x10643f790>"
       ]
      }
     ],
     "prompt_number": 20
    },
    {
     "cell_type": "code",
     "collapsed": false,
     "input": [
      "hist(initial_degrees, label='Initial', normed=True)\n",
      "hist(end_degrees, alpha=.8, label='After Rewiring', normed=True)\n",
      "legend()\n",
      "title(\"Degree Distribution Changes With Rewiring\")\n",
      "ylabel(\"p(Degree)\")\n",
      "xlabel(\"Degree\")\n",
      "\n",
      "lg = legend()\n",
      "lg.draw_frame(False)\n",
      "\n",
      "ax = gca()\n",
      "ax.spines['top'].set_visible(False)\n",
      "ax.spines['right'].set_visible(False)\n",
      "ax.get_xaxis().tick_bottom()\n",
      "ax.get_yaxis().tick_left()\n",
      "\n",
      "savefig(\"Model-Degree_Distribution.pdf\")"
     ],
     "language": "python",
     "metadata": {},
     "outputs": [
      {
       "metadata": {},
       "output_type": "display_data",
       "png": "[encoded data removed]",
       "text": [
        "<matplotlib.figure.Figure at 0x1068fb450>"
       ]
      }
     ],
     "prompt_number": 21
    },
    {
     "cell_type": "code",
     "collapsed": false,
     "input": [
      "from IPython.html import widgets\n",
      "from IPython.display import display\n",
      "from eventful_graph import EventfulGraph, empty_eventfulgraph_hook\n",
      "from widget_forcedirectedgraph import ForceDirectedGraphWidget, publish_js\n",
      "publish_js()"
     ],
     "language": "python",
     "metadata": {},
     "outputs": [
      {
       "javascript": [
        "require([\"//cdnjs.cloudflare.com/ajax/libs/d3/3.4.1/d3.min.js\", \"widgets/js/manager\"], function(d3, WidgetManager){\n",
        "\n",
        "    // Define the D3ForceDirectedGraphView\n",
        "    var D3ForceDirectedGraphView = IPython.DOMWidgetView.extend({\n",
        "        \n",
        "        render: function(){\n",
        "            this.guid = 'd3force' + IPython.utils.uuid();\n",
        "            this.setElement($('<div />', {id: this.guid}));\n",
        "            \n",
        "            this.model.on('msg:custom', this.on_msg, this);\n",
        "            this.has_drawn = false;\n",
        "            \n",
        "            // Wait for element to be added to the DOM\n",
        "            var that = this;\n",
        "            setTimeout(function() {\n",
        "                that.update();\n",
        "            }, 0);\n",
        "        },\n",
        "        \n",
        "        try_add_node: function(id){\n",
        "            var index = this.find_node(id);\n",
        "            if (index == -1) {\n",
        "                var node = {id: id};\n",
        "                this.nodes.push(node);\n",
        "                return node;\n",
        "            } else {\n",
        "                return this.nodes[index];\n",
        "            }\n",
        "        },\n",
        "        \n",
        "        update_node: function(node, attributes) {\n",
        "            if (node !== null) {\n",
        "                for (var key in attributes) {\n",
        "                    node[key] = attributes[key];\n",
        "                }\n",
        "                this._update_circle(d3.select('#' + this.guid + node.id));\n",
        "                this._update_text(d3.select('#' + this.guid + node.id + '-text'));\n",
        "            }\n",
        "        },\n",
        "                \n",
        "        remove_node: function(id){\n",
        "            this.remove_links_to(id);\n",
        "            \n",
        "            var found_index = this.find_node(id);\n",
        "            if (found_index>=0) {\n",
        "                this.nodes.splice(found_index, 1);\n",
        "            }\n",
        "        },\n",
        "        \n",
        "        find_node: function(id){\n",
        "            var found_index = -1;\n",
        "            for (var index in this.nodes) {\n",
        "                if (this.nodes[index].id == id) {\n",
        "                    found_index = index;\n",
        "                    break;\n",
        "                }\n",
        "            }\n",
        "            return found_index;\n",
        "        },\n",
        "        \n",
        "        find_link: function(source_id, target_id){\n",
        "            for (var index in this.links) {\n",
        "                if (this.links[index].source.id == source_id && this.links[index].target.id == target_id) {\n",
        "                    return index;\n",
        "                }\n",
        "            }\n",
        "            return -1;\n",
        "        },\n",
        "        \n",
        "        try_add_link: function(source_id, target_id){\n",
        "            var index = this.find_link(source_id, target_id);\n",
        "            if (index == -1) {\n",
        "                var source_node = this.try_add_node(source_id);\n",
        "                var target_node = this.try_add_node(target_id);\n",
        "                var new_link = {source: source_node, target: target_node};\n",
        "                this.links.push(new_link);\n",
        "                return new_link;\n",
        "            } else {\n",
        "                return this.links[index]\n",
        "            }\n",
        "        },\n",
        "        \n",
        "        update_link: function(link, attributes){\n",
        "            if (link != null) {\n",
        "                for (var key in attributes) {\n",
        "                    link[key] = attributes[key];\n",
        "                }\n",
        "                this._update_edge(d3.select('#' + this.guid + link.source.id + \"-\" + link.target.id));\n",
        "            }\n",
        "        },\n",
        "        \n",
        "        remove_links: function(source_id){\n",
        "            var found_indicies = [];\n",
        "            for (var index in this.links) {\n",
        "                if (this.links[index].source.id == source_id) {\n",
        "                    found_indicies.push(index);\n",
        "                }\n",
        "            }\n",
        "            found_indicies.reverse();\n",
        "            \n",
        "            for (var index in found_indicies) {\n",
        "                this.links.splice(index, 1);\n",
        "            };\n",
        "        },\n",
        "        \n",
        "        remove_links_to: function(id){\n",
        "            var found_indicies = [];\n",
        "            for (var index in this.links) {\n",
        "                if (this.links[index].source.id == id || this.links[index].target.id == id) {\n",
        "                    found_indicies.push(index);\n",
        "                }\n",
        "            }\n",
        "            found_indicies.reverse();\n",
        "            \n",
        "            for (var index in found_indicies) {\n",
        "                this.links.splice(index, 1);\n",
        "            };\n",
        "        },\n",
        "        \n",
        "        on_msg: function(content){\n",
        "            this.update();\n",
        "            \n",
        "            var dict = content.dict;\n",
        "            var action = content.action;\n",
        "            var key = content.key;\n",
        "            \n",
        "            if (dict=='node') {\n",
        "                if (action=='add' || action=='set') {\n",
        "                    this.update_node(this.try_add_node(key), content.value)\n",
        "                } else if (action=='del') {\n",
        "                    this.remove_node(key);\n",
        "                }\n",
        "                \n",
        "            } else if (dict=='adj') {\n",
        "                if (action=='add' || action=='set') {\n",
        "                    var links = content.value;\n",
        "                    for (var target_id in links) {\n",
        "                        this.update_link(this.try_add_link(key, target_id), links[target_id]);\n",
        "                    }\n",
        "                } else if (action=='del') {\n",
        "                    this.remove_links(key);\n",
        "                }\n",
        "            }\n",
        "            this.start();\n",
        "        },\n",
        "        \n",
        "        start: function() {\n",
        "            var node = this.svg.selectAll(\".gnode\"),\n",
        "                link = this.svg.selectAll(\".link\");\n",
        "            \n",
        "            var link = link.data(this.force.links(), function(d) { return d.source.id + \"-\" + d.target.id; });\n",
        "            this._update_edge(link.enter().insert(\"line\", \".gnode\"))\n",
        "            link.exit().remove();\n",
        "            \n",
        "            var node = node.data(this.force.nodes(), function(d) { return d.id;});\n",
        "            var that = this;\n",
        "\n",
        "            var gnode = node.enter()\n",
        "                .append(\"g\")\n",
        "                .attr('class', 'gnode')\n",
        "                .call(this.force.drag);\n",
        "            this._update_circle(gnode.append(\"circle\"));\n",
        "            this._update_text(gnode.append(\"text\"));\n",
        "            node.exit().remove();\n",
        "            \n",
        "            this.force.start();\n",
        "        },\n",
        "\n",
        "        _update_circle: function(circle) {\n",
        "            var that = this;\n",
        "\n",
        "            circle\n",
        "                .attr(\"id\", function(d) { return that.guid + d.id; })\n",
        "                .attr(\"class\", function(d) { return \"node \" + d.id; })\n",
        "                .attr(\"r\", function(d) {\n",
        "                    if (d.r == undefined) {\n",
        "                        return 8; \n",
        "                    } else {\n",
        "                        return d.r;\n",
        "                    }\n",
        "                    \n",
        "                })\n",
        "                .style(\"fill\", function(d) {\n",
        "                    if (d.fill == undefined) {\n",
        "                        return that.color(d.group); \n",
        "                    } else {\n",
        "                        return d.fill;\n",
        "                    }\n",
        "                    \n",
        "                })\n",
        "                .style(\"stroke\", function(d) {\n",
        "                    if (d.stroke == undefined) {\n",
        "                        return \"#FFF\"; \n",
        "                    } else {\n",
        "                        return d.stroke;\n",
        "                    }\n",
        "                    \n",
        "                })\n",
        "                .style(\"stroke-width\", function(d) {\n",
        "                    if (d.strokewidth == undefined) {\n",
        "                        return \"#FFF\"; \n",
        "                    } else {\n",
        "                        return d.strokewidth;\n",
        "                    }\n",
        "                    \n",
        "                })\n",
        "                .attr('dx', 0)\n",
        "                .attr('dy', 0);\n",
        "        },\n",
        "        \n",
        "        _update_text: function(text) {\n",
        "            var that = this;\n",
        "\n",
        "            text\n",
        "                .attr(\"id\", function(d) { return that.guid + d.id + '-text'; })\n",
        "                .text(function(d) { \n",
        "                    if (d.label) {\n",
        "                        return  d.label;\n",
        "                    } else {\n",
        "                        return '';\n",
        "                    }\n",
        "                })\n",
        "                .style(\"font-size\",function(d) { \n",
        "                    if (d.font_size) {\n",
        "                        return  d.font_size;\n",
        "                    } else {\n",
        "                        return '11pt';\n",
        "                    }\n",
        "                })\n",
        "                .attr(\"text-anchor\", \"middle\")\n",
        "                .style(\"fill\", function(d) { \n",
        "                    if (d.color) {\n",
        "                        return  d.color;\n",
        "                    } else {\n",
        "                        return 'white';\n",
        "                    }\n",
        "                })\n",
        "                .attr('dx', function(d) { \n",
        "                    if (d.dx) {\n",
        "                        return  d.dx;\n",
        "                    } else {\n",
        "                        return 0;\n",
        "                    }\n",
        "                })\n",
        "                .attr('dy', function(d) { \n",
        "                    if (d.dy) {\n",
        "                        return  d.dy;\n",
        "                    } else {\n",
        "                        return 5;\n",
        "                    }\n",
        "                })\n",
        "                .style(\"pointer-events\", 'none');\n",
        "        },\n",
        "        \n",
        "        _update_edge: function(edge) {\n",
        "            var that = this;\n",
        "            edge\n",
        "                .attr(\"id\", function(d) { return that.guid + d.source.id + \"-\" + d.target.id; })\n",
        "                .attr(\"class\", \"link\")\n",
        "                .style(\"stroke-width\", function(d) {\n",
        "                    if (d.strokewidth == undefined) {\n",
        "                        return \"1.5px\"; \n",
        "                    } else {\n",
        "                        return d.strokewidth;\n",
        "                    }\n",
        "                    \n",
        "                })\n",
        "                .style('stroke', function(d) {\n",
        "                    if (d.stroke == undefined) {\n",
        "                        return \"#999\"; \n",
        "                    } else {\n",
        "                        return d.stroke;\n",
        "                    }\n",
        "                    \n",
        "                });\n",
        "        },\n",
        "        \n",
        "        tick: function() {\n",
        "            var gnode = this.svg.selectAll(\".gnode\"),\n",
        "                link = this.svg.selectAll(\".link\");\n",
        "            \n",
        "            link.attr(\"x1\", function(d) { return d.source.x; })\n",
        "                .attr(\"y1\", function(d) { return d.source.y; })\n",
        "                .attr(\"x2\", function(d) { return d.target.x; })\n",
        "                .attr(\"y2\", function(d) { return d.target.y; });\n",
        "\n",
        "            // Translate the groups\n",
        "            gnode.attr(\"transform\", function(d) { return \"translate(\" + d.x + \",\" + d.y + \")\"; });  \n",
        "        },\n",
        "        \n",
        "        update: function(){\n",
        "            if (!this.has_drawn) {\n",
        "                this.has_drawn = true;\n",
        "                var width = this.model.get('width'),\n",
        "                    height = this.model.get('height');\n",
        "                \n",
        "                this.color = d3.scale.category20();\n",
        "                \n",
        "                this.nodes = [];\n",
        "                this.links = [];\n",
        "                \n",
        "                var that = this;\n",
        "                this.force = d3.layout.force()\n",
        "                    .nodes(this.nodes)\n",
        "                    .links(this.links)\n",
        "                    .charge(function (d) {\n",
        "                        if (d.charge === undefined) {\n",
        "                            return -280;\n",
        "                        } else {\n",
        "                            return d.charge;\n",
        "                        }\n",
        "                    })\n",
        "                    .linkDistance(function (d) {\n",
        "                        if (d.distance === undefined) {\n",
        "                            return 30;\n",
        "                        } else {\n",
        "                            return d.distance;\n",
        "                        }\n",
        "                    })\n",
        "                    .linkStrength(function (d) {\n",
        "                        if (d.strength === undefined) {\n",
        "                            return 0.3;\n",
        "                        } else {\n",
        "                            return d.strength;\n",
        "                        }\n",
        "                    })\n",
        "                    .size([width, height])\n",
        "                    .on(\"tick\", $.proxy(this.tick, this));\n",
        "                \n",
        "                this.svg = d3.select(\"#\" + this.guid).append(\"svg\")\n",
        "                    .attr(\"width\", width)\n",
        "                    .attr(\"height\", height);\n",
        "            }\n",
        "\n",
        "            var that = this;\n",
        "            setTimeout(function() {\n",
        "                that.start();\n",
        "            }, 0);\n",
        "            return D3ForceDirectedGraphView.__super__.update.apply(this);\n",
        "        },\n",
        "        \n",
        "    });\n",
        "        \n",
        "    // Register the D3ForceDirectedGraphView with the widget manager.\n",
        "    WidgetManager.register_widget_view('D3ForceDirectedGraphView', D3ForceDirectedGraphView);\n",
        "});"
       ],
       "metadata": {},
       "output_type": "display_data",
       "text": [
        "<IPython.core.display.Javascript at 0x105adbdd0>"
       ]
      }
     ],
     "prompt_number": 24
    },
    {
     "cell_type": "code",
     "collapsed": false,
     "input": [
      "floating_container = widgets.PopupWidget(default_view_name='ModalView')\n",
      "floating_container.description = \"Dynamic D3 rendering of a NetworkX graph\"\n",
      "floating_container.button_text = \"Render Window\"\n",
      "floating_container.set_css({\n",
      "    'width': '420px',\n",
      "    'height': '350px'}, selector='modal')\n",
      "\n",
      "#G = EventfulGraph()\n",
      "d3 = ForceDirectedGraphWidget(g)\n",
      "\n",
      "floating_container.children = [d3]\n",
      "display(floating_container)"
     ],
     "language": "python",
     "metadata": {},
     "outputs": [
      {
       "ename": "AttributeError",
       "evalue": "'dict' object has no attribute 'on_add'",
       "output_type": "pyerr",
       "traceback": [
        "\u001b[0;31m---------------------------------------------------------------------------\u001b[0m\n\u001b[0;31mAttributeError\u001b[0m                            Traceback (most recent call last)",
        "\u001b[0;32m<ipython-input-27-3545fb79d0c9>\u001b[0m in \u001b[0;36m<module>\u001b[0;34m()\u001b[0m\n\u001b[1;32m      7\u001b[0m \u001b[0;34m\u001b[0m\u001b[0m\n\u001b[1;32m      8\u001b[0m \u001b[0;31m#G = EventfulGraph()\u001b[0m\u001b[0;34m\u001b[0m\u001b[0;34m\u001b[0m\u001b[0m\n\u001b[0;32m----> 9\u001b[0;31m \u001b[0md3\u001b[0m \u001b[0;34m=\u001b[0m \u001b[0mForceDirectedGraphWidget\u001b[0m\u001b[0;34m(\u001b[0m\u001b[0mg\u001b[0m\u001b[0;34m)\u001b[0m\u001b[0;34m\u001b[0m\u001b[0m\n\u001b[0m\u001b[1;32m     10\u001b[0m \u001b[0;34m\u001b[0m\u001b[0m\n\u001b[1;32m     11\u001b[0m \u001b[0mfloating_container\u001b[0m\u001b[0;34m.\u001b[0m\u001b[0mchildren\u001b[0m \u001b[0;34m=\u001b[0m \u001b[0;34m[\u001b[0m\u001b[0md3\u001b[0m\u001b[0;34m]\u001b[0m\u001b[0;34m\u001b[0m\u001b[0m\n",
        "\u001b[0;32m/Users/jeff/Google_Drive/Research/Conferences/MRC_Network_Science/widget_forcedirectedgraph.py\u001b[0m in \u001b[0;36m__init__\u001b[0;34m(self, eventful_graph, *pargs, **kwargs)\u001b[0m\n\u001b[1;32m     22\u001b[0m \u001b[0;34m\u001b[0m\u001b[0m\n\u001b[1;32m     23\u001b[0m         \u001b[0mself\u001b[0m\u001b[0;34m.\u001b[0m\u001b[0m_eventful_graph\u001b[0m \u001b[0;34m=\u001b[0m \u001b[0meventful_graph\u001b[0m\u001b[0;34m\u001b[0m\u001b[0m\n\u001b[0;32m---> 24\u001b[0;31m         \u001b[0mself\u001b[0m\u001b[0;34m.\u001b[0m\u001b[0m_send_dict_changes\u001b[0m\u001b[0;34m(\u001b[0m\u001b[0meventful_graph\u001b[0m\u001b[0;34m.\u001b[0m\u001b[0mgraph\u001b[0m\u001b[0;34m,\u001b[0m \u001b[0;34m'graph'\u001b[0m\u001b[0;34m)\u001b[0m\u001b[0;34m\u001b[0m\u001b[0m\n\u001b[0m\u001b[1;32m     25\u001b[0m         \u001b[0mself\u001b[0m\u001b[0;34m.\u001b[0m\u001b[0m_send_dict_changes\u001b[0m\u001b[0;34m(\u001b[0m\u001b[0meventful_graph\u001b[0m\u001b[0;34m.\u001b[0m\u001b[0mnode\u001b[0m\u001b[0;34m,\u001b[0m \u001b[0;34m'node'\u001b[0m\u001b[0;34m)\u001b[0m\u001b[0;34m\u001b[0m\u001b[0m\n\u001b[1;32m     26\u001b[0m         \u001b[0mself\u001b[0m\u001b[0;34m.\u001b[0m\u001b[0m_send_dict_changes\u001b[0m\u001b[0;34m(\u001b[0m\u001b[0meventful_graph\u001b[0m\u001b[0;34m.\u001b[0m\u001b[0madj\u001b[0m\u001b[0;34m,\u001b[0m \u001b[0;34m'adj'\u001b[0m\u001b[0;34m)\u001b[0m\u001b[0;34m\u001b[0m\u001b[0m\n",
        "\u001b[0;32m/Users/jeff/Google_Drive/Research/Conferences/MRC_Network_Science/widget_forcedirectedgraph.py\u001b[0m in \u001b[0;36m_send_dict_changes\u001b[0;34m(self, eventful_dict, dict_name)\u001b[0m\n\u001b[1;32m     44\u001b[0m         \u001b[0;32mdef\u001b[0m \u001b[0mkey_del\u001b[0m\u001b[0;34m(\u001b[0m\u001b[0mkey\u001b[0m\u001b[0;34m)\u001b[0m\u001b[0;34m:\u001b[0m\u001b[0;34m\u001b[0m\u001b[0m\n\u001b[1;32m     45\u001b[0m             \u001b[0mself\u001b[0m\u001b[0;34m.\u001b[0m\u001b[0msend\u001b[0m\u001b[0;34m(\u001b[0m\u001b[0;34m{\u001b[0m\u001b[0;34m'dict'\u001b[0m\u001b[0;34m:\u001b[0m \u001b[0mdict_name\u001b[0m\u001b[0;34m,\u001b[0m \u001b[0;34m'action'\u001b[0m\u001b[0;34m:\u001b[0m \u001b[0;34m'del'\u001b[0m\u001b[0;34m,\u001b[0m \u001b[0;34m'key'\u001b[0m\u001b[0;34m:\u001b[0m \u001b[0mkey\u001b[0m\u001b[0;34m}\u001b[0m\u001b[0;34m)\u001b[0m\u001b[0;34m\u001b[0m\u001b[0m\n\u001b[0;32m---> 46\u001b[0;31m         \u001b[0meventful_dict\u001b[0m\u001b[0;34m.\u001b[0m\u001b[0mon_add\u001b[0m\u001b[0;34m(\u001b[0m\u001b[0mkey_add\u001b[0m\u001b[0;34m)\u001b[0m\u001b[0;34m\u001b[0m\u001b[0m\n\u001b[0m\u001b[1;32m     47\u001b[0m         \u001b[0meventful_dict\u001b[0m\u001b[0;34m.\u001b[0m\u001b[0mon_set\u001b[0m\u001b[0;34m(\u001b[0m\u001b[0mkey_set\u001b[0m\u001b[0;34m)\u001b[0m\u001b[0;34m\u001b[0m\u001b[0m\n\u001b[1;32m     48\u001b[0m         \u001b[0meventful_dict\u001b[0m\u001b[0;34m.\u001b[0m\u001b[0mon_del\u001b[0m\u001b[0;34m(\u001b[0m\u001b[0mkey_del\u001b[0m\u001b[0;34m)\u001b[0m\u001b[0;34m\u001b[0m\u001b[0m\n",
        "\u001b[0;31mAttributeError\u001b[0m: 'dict' object has no attribute 'on_add'"
       ]
      }
     ],
     "prompt_number": 27
    },
    {
     "cell_type": "code",
     "collapsed": false,
     "input": [
      "from networkx.generators import random_graphs\n",
      "from networkx.generators import classic\n",
      "\n",
      "# Add a listener to the eventful graph's construction method.\n",
      "# If an eventful graph is created, build and show a widget\n",
      "# for the graph.\n",
      "def handle_graph(graph):\n",
      "    print(graph.graph._sleep)\n",
      "    popup = widgets.PopupWidget()\n",
      "    popup.description = \"NetworkX Graph\"\n",
      "    popup.button_text = \"Render Window\"\n",
      "    popup.set_css({\n",
      "        'width': '420px',\n",
      "        'height': '350px'}, selector='modal')\n",
      "    graph_widget = ForceDirectedGraphWidget(graph)\n",
      "    popup.children = [graph_widget]\n",
      "    display(popup)\n",
      "EventfulGraph.on_constructed(handle_graph)\n",
      "\n",
      "# Replace the empty graph of the networkx classic module with\n",
      "# the eventful graph type.\n",
      "random_graphs.empty_graph = empty_eventfulgraph_hook(sleep=0.2)"
     ],
     "language": "python",
     "metadata": {},
     "outputs": []
    },
    {
     "cell_type": "code",
     "collapsed": false,
     "input": [
      "import d3py\n",
      " \n",
      "with d3py.NetworkXFigure(g, name=\"graph\",width=1000, height=1000) as p:\n",
      "    p += d3py.ForceLayout()\n",
      "    p.css['.node'] = {'fill': 'blue', 'stroke': 'magenta'}\n",
      "    p.save_to_files()\n",
      "    p.show() "
     ],
     "language": "python",
     "metadata": {},
     "outputs": []
    }
   ],
   "metadata": {}
  }
 ]
}