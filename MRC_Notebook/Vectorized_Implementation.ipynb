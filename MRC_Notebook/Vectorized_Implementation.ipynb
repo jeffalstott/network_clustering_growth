{
 "metadata": {
  "name": "",
  "signature": "sha256:710cf1ecbf61c6b603c2e3feeb794adcbea0759a13f696cba4a9108c2913ed8f"
 },
 "nbformat": 3,
 "nbformat_minor": 0,
 "worksheets": [
  {
   "cells": [
    {
     "cell_type": "markdown",
     "metadata": {
      "variables": {}
     },
     "source": [
      "Setup\n",
      "===="
     ]
    },
    {
     "cell_type": "code",
     "collapsed": false,
     "input": [
      "import seaborn\n",
      "import pandas as pd\n",
      "%pylab inline"
     ],
     "language": "python",
     "metadata": {},
     "outputs": [
      {
       "output_type": "stream",
       "stream": "stdout",
       "text": [
        "Populating the interactive namespace from numpy and matplotlib\n"
       ]
      }
     ],
     "prompt_number": 1
    },
    {
     "cell_type": "markdown",
     "metadata": {
      "variables": {}
     },
     "source": [
      "Define the algorithm\n",
      "===="
     ]
    },
    {
     "cell_type": "code",
     "collapsed": false,
     "input": [
      "def one_move(A,A2, fixed, use_for_loops=True):\n",
      "    most_wedges_order = argsort(A2.ravel())[::-1]\n",
      "    doorways = array(unravel_index(most_wedges_order, shape(A2)))\n",
      "    for doorway_index in range(doorways.shape[1]):\n",
      "        doorway = tuple(doorways[:,doorway_index])\n",
      "        if A[doorway]: #There's already an edge there\n",
      "            continue\n",
      "        if doorway[0]==doorway[1]: #The proposed target is a self link\n",
      "            continue\n",
      "#         print(doorway)\n",
      "        door = find_door(A, doorway, A2, fixed, use_for_loops)\n",
      "        if door:\n",
      "            hinge, target, latch = door\n",
      "            A, fixed = swing_door(A, hinge, target, latch, fixed)\n",
      "            return A, hinge, target, latch\n",
      "    return None\n",
      "    \n",
      "def find_door(A, sides_of_doorway, A2, fixed, use_for_loops=False):\n",
      "    \n",
      "    wedges_across_doorway = A2[sides_of_doorway]    \n",
      "    \n",
      "    if not use_for_loops:\n",
      "        def find_door_helper(hinge, latch, A, A2, fixed, wedges_across_doorway):\n",
      "            latch_degree = A[latch].sum()\n",
      "            neighbors_of_hinge = A[hinge]\n",
      "            neighbors_degrees = A.sum(axis=1)\n",
      "            wedges_across_candidate_doors = A2[hinge]        \n",
      "            candidate_doors_not_fixed = ~fixed[hinge]\n",
      "            candidate_doors = (neighbors_of_hinge * \n",
      "                               (wedges_across_doorway > wedges_across_candidate_doors) *\n",
      "                               (neighbors_degrees > latch_degree) * \n",
      "                               candidate_doors_not_fixed\n",
      "                               )\n",
      "            if any(candidate_doors):\n",
      "                best_door_for_this_hinge = ma.masked_array(A2[hinge], mask=~candidate_doors.astype('bool')).argmin()\n",
      "                return best_door_for_this_hinge\n",
      "            else:\n",
      "                return None\n",
      "\n",
      "        best_doors = [find_door_helper(sides_of_doorway[0], sides_of_doorway[1], A, A2, fixed, wedges_across_doorway),\n",
      "                      find_door_helper(sides_of_doorway[1], sides_of_doorway[0], A, A2, fixed, wedges_across_doorway)]\n",
      "        if best_doors[0] is None and best_doors[1] is None:\n",
      "            return None\n",
      "        elif best_doors[0] is None:\n",
      "            best_door_index = 1\n",
      "        elif best_doors[1] is None:\n",
      "            best_door_index = 0\n",
      "        else:\n",
      "            best_door_index = argmin(A2[sides_of_doorway, best_doors])\n",
      "\n",
      "        hinge = sides_of_doorway[best_door_index]\n",
      "        target_neighbor = best_doors[best_door_index]\n",
      "        latch = sides_of_doorway[not(best_door_index)]\n",
      "\n",
      "        return hinge, target_neighbor, latch            \n",
      "\n",
      "    else:\n",
      "        neighbors_wedges = A2[array(sides_of_doorway)]\n",
      "        neighbors_least_wedges_order = argsort(neighbors_wedges.ravel())\n",
      "        candidate_doors = array(unravel_index(neighbors_least_wedges_order, shape(neighbors_wedges)))\n",
      "\n",
      "        for candidate_door_index in range(candidate_doors.shape[1]):\n",
      "            side_of_door_with_hinge, target_neighbor = candidate_doors[:,candidate_door_index]\n",
      "\n",
      "            hinge = sides_of_doorway[side_of_door_with_hinge]\n",
      "            latch = sides_of_doorway[not side_of_door_with_hinge]  \n",
      "\n",
      "            wedges_across_candidate_door_position = A2[hinge, target_neighbor]\n",
      "            \n",
      "            #We want to complete more wedges than we open. So if the wedges across the doorway is less \n",
      "            #than those across the current door (all of which are currently triangles), then we don't\n",
      "            #want to make this move. \n",
      "            if wedges_across_doorway<=wedges_across_candidate_door_position: \n",
      "                return None\n",
      "                #Because the wedges_across_candidate_door_position is sorted from low to high, if \n",
      "                #we meet this condition once, then we know the rest of the candidate door positions will\n",
      "                #be even worse, so we should stop\n",
      "            if (A[hinge,target_neighbor] and \n",
      "                sum(A[target_neighbor]) > sum(A[latch]) and \n",
      "                not fixed[hinge,target_neighbor]):\n",
      "                return hinge, target_neighbor, latch\n",
      "        return None\n",
      "\n",
      "def swing_door(A, hinge, target_neighbor, latch, fixed):\n",
      "    A[hinge, target_neighbor] = 0\n",
      "    A[target_neighbor, hinge] = 0\n",
      "    A[hinge, latch] = 1\n",
      "    A[latch, hinge] = 1\n",
      "\n",
      "    fixed[hinge, latch] = True\n",
      "    fixed[latch, hinge] = True\n",
      "\n",
      "    return A, fixed\n",
      "\n",
      "\n",
      "import networkx as nx\n",
      "def nt_np(G):\n",
      "    triangles=0 # 6 times number of triangles\n",
      "    contri=0  # 2 times number of connected triples\n",
      "    for v,d,t in nx.algorithms.cluster._triangles_and_degree_iter(G):\n",
      "        contri += d*(d-1)\n",
      "        triangles += t\n",
      "    if triangles==0: # we had no triangles or possible triangles\n",
      "        return 0.0, float(contri)\n",
      "    else:\n",
      "        return triangles/6.0, float(contri)/2.0"
     ],
     "language": "python",
     "metadata": {
      "code_folding": [
       81,
       94
      ]
     },
     "outputs": [],
     "prompt_number": 494
    },
    {
     "cell_type": "markdown",
     "metadata": {
      "variables": {}
     },
     "source": [
      "Create the initial graph\n",
      "==="
     ]
    },
    {
     "cell_type": "code",
     "collapsed": false,
     "input": [
      "n_nodes = 100\n",
      "p = 1.5*log(n_nodes)/n_nodes\n",
      "g = nx.erdos_renyi_graph(n=n_nodes, p=p)\n",
      "\n",
      "try_count = 1\n",
      "max_tries = 1000\n",
      "while not nx.is_connected(g):\n",
      "    g = nx.erdos_renyi_graph(n=n_nodes, p=p)\n",
      "    try_count += 1\n",
      "    if try_count>max_tries:\n",
      "        print(\"Can't make a connected graph. Tried %i times.\"%max_tries)\n",
      "        break\n",
      "\n",
      "original_graph = g.copy()\n",
      "\n",
      "print(\"Average degree: %.2f\"%mean(list(g.degree().values())))"
     ],
     "language": "python",
     "metadata": {},
     "outputs": [
      {
       "output_type": "stream",
       "stream": "stdout",
       "text": [
        "Average degree: 7.16\n"
       ]
      }
     ],
     "prompt_number": 495
    },
    {
     "cell_type": "code",
     "collapsed": false,
     "input": [
      "g = original_graph.copy()"
     ],
     "language": "python",
     "metadata": {},
     "outputs": [],
     "prompt_number": 503
    },
    {
     "cell_type": "markdown",
     "metadata": {
      "variables": {}
     },
     "source": [
      "Get initial measurements of the original graph\n",
      "===="
     ]
    },
    {
     "cell_type": "code",
     "collapsed": false,
     "input": [
      "nt, np = nt_np(g)\n",
      "\n",
      "A = nx.adjacency_matrix(g).todense()\n",
      "A2 = A**2\n",
      "\n",
      "change_percentage = 1\n",
      "n_trials = floor(change_percentage*g.number_of_edges())\n",
      "nts = [nt]\n",
      "nps = [np]\n",
      "Cs = [nt/np]\n",
      "C_locals = [nx.average_clustering(g)]\n",
      "mean_k = [mean(list(g.degree().values()))]\n",
      "pl = [nx.average_shortest_path_length(g)]\n",
      "\n",
      "initial_degrees = g.degree().values()"
     ],
     "language": "python",
     "metadata": {},
     "outputs": [],
     "prompt_number": 504
    },
    {
     "cell_type": "markdown",
     "metadata": {
      "variables": {}
     },
     "source": [
      "Rewire the graph\n",
      "==="
     ]
    },
    {
     "cell_type": "code",
     "collapsed": false,
     "input": [
      "fixed = zeros(shape(A), dtype=bool)\n",
      "print(\"Attempting %i edge rewires, out of %i edges\"%(n_trials, g.number_of_edges()))\n",
      "for k in arange(n_trials):\n",
      "    if not k%10:\n",
      "        print(\"Rewiring %i out of %i\"%(k,n_trials))\n",
      "\n",
      "    outputs = one_move(array(A), array(A2), fixed)\n",
      "    if not outputs:\n",
      "        print(\"Couldn't make a move!\")\n",
      "        break\n",
      "    else:\n",
      "        A_new, hinge, target, latch = outputs\n",
      "    \n",
      "    g = nx.from_numpy_matrix(A_new)\n",
      "    mean_k.append(mean(list(g.degree().values())))\n",
      "    nt, np = nt_np(g)\n",
      "    nts.append(nt)\n",
      "    nps.append(np)\n",
      "    Cs.append(nt/np)\n",
      "    if Cs[-1]<Cs[-2]:\n",
      "        print(\"Clustering went down! That shouldn't happen!\")\n",
      "        print(\"Tried to move the link between %i to %i to %i and %i\"%(hinge, target, hinge, latch))\n",
      "        break\n",
      "    pl.append(nx.average_shortest_path_length(g))\n",
      "    C_locals.append(nx.average_clustering(g))\n",
      "    \n",
      "    A = A_new\n",
      "    A2 = matrix(A)**2 \n",
      "\n",
      "print(\"Rewired %.1f percent of edges\"%(100*float(k)/n_trials))\n",
      "# end_degrees = g.degree().values()\n",
      "\n",
      "# rewired_graph = g.copy()"
     ],
     "language": "python",
     "metadata": {},
     "outputs": [
      {
       "output_type": "stream",
       "stream": "stdout",
       "text": [
        "Attempting 358 edge rewires, out of 358 edges\n",
        "Rewiring 0 out of 358\n",
        "Rewiring 10 out of 358"
       ]
      },
      {
       "output_type": "stream",
       "stream": "stdout",
       "text": [
        "\n",
        "Rewiring 20 out of 358"
       ]
      },
      {
       "output_type": "stream",
       "stream": "stdout",
       "text": [
        "\n",
        "Rewiring 30 out of 358"
       ]
      },
      {
       "output_type": "stream",
       "stream": "stdout",
       "text": [
        "\n",
        "Rewiring 40 out of 358"
       ]
      },
      {
       "output_type": "stream",
       "stream": "stdout",
       "text": [
        "\n",
        "Rewiring 50 out of 358"
       ]
      },
      {
       "output_type": "stream",
       "stream": "stdout",
       "text": [
        "\n",
        "Rewiring 60 out of 358"
       ]
      },
      {
       "output_type": "stream",
       "stream": "stdout",
       "text": [
        "\n",
        "Rewiring 70 out of 358"
       ]
      },
      {
       "output_type": "stream",
       "stream": "stdout",
       "text": [
        "\n",
        "Rewiring 80 out of 358"
       ]
      },
      {
       "output_type": "stream",
       "stream": "stdout",
       "text": [
        "\n",
        "Rewiring 90 out of 358"
       ]
      },
      {
       "output_type": "stream",
       "stream": "stdout",
       "text": [
        "\n",
        "Rewiring 100 out of 358"
       ]
      },
      {
       "output_type": "stream",
       "stream": "stdout",
       "text": [
        "\n",
        "Rewiring 110 out of 358"
       ]
      },
      {
       "output_type": "stream",
       "stream": "stdout",
       "text": [
        "\n",
        "Rewiring 120 out of 358"
       ]
      },
      {
       "output_type": "stream",
       "stream": "stdout",
       "text": [
        "\n",
        "Rewiring 130 out of 358"
       ]
      },
      {
       "output_type": "stream",
       "stream": "stdout",
       "text": [
        "\n",
        "Rewiring 140 out of 358"
       ]
      },
      {
       "output_type": "stream",
       "stream": "stdout",
       "text": [
        "\n",
        "Rewiring 150 out of 358"
       ]
      },
      {
       "output_type": "stream",
       "stream": "stdout",
       "text": [
        "\n",
        "Rewiring 160 out of 358"
       ]
      },
      {
       "output_type": "stream",
       "stream": "stdout",
       "text": [
        "\n",
        "Rewiring 170 out of 358"
       ]
      },
      {
       "output_type": "stream",
       "stream": "stdout",
       "text": [
        "\n",
        "Rewiring 180 out of 358"
       ]
      },
      {
       "output_type": "stream",
       "stream": "stdout",
       "text": [
        "\n",
        "Rewiring 190 out of 358"
       ]
      },
      {
       "output_type": "stream",
       "stream": "stdout",
       "text": [
        "\n",
        "Rewiring 200 out of 358"
       ]
      },
      {
       "output_type": "stream",
       "stream": "stdout",
       "text": [
        "\n",
        "Rewiring 210 out of 358"
       ]
      },
      {
       "output_type": "stream",
       "stream": "stdout",
       "text": [
        "\n",
        "Rewiring 220 out of 358"
       ]
      },
      {
       "output_type": "stream",
       "stream": "stdout",
       "text": [
        "\n",
        "Rewiring 230 out of 358"
       ]
      },
      {
       "output_type": "stream",
       "stream": "stdout",
       "text": [
        "\n",
        "Rewiring 240 out of 358"
       ]
      },
      {
       "output_type": "stream",
       "stream": "stdout",
       "text": [
        "\n",
        "Rewiring 250 out of 358"
       ]
      },
      {
       "output_type": "stream",
       "stream": "stdout",
       "text": [
        "\n",
        "Rewiring 260 out of 358"
       ]
      },
      {
       "output_type": "stream",
       "stream": "stdout",
       "text": [
        "\n",
        "Rewiring 270 out of 358"
       ]
      },
      {
       "output_type": "stream",
       "stream": "stdout",
       "text": [
        "\n",
        "Rewiring 280 out of 358"
       ]
      },
      {
       "output_type": "stream",
       "stream": "stdout",
       "text": [
        "\n",
        "Rewiring 290 out of 358"
       ]
      },
      {
       "output_type": "stream",
       "stream": "stdout",
       "text": [
        "\n",
        "Couldn't make a move!"
       ]
      },
      {
       "output_type": "stream",
       "stream": "stdout",
       "text": [
        "\n",
        "Rewired 82.1 percent of edges\n"
       ]
      }
     ],
     "prompt_number": 506
    },
    {
     "cell_type": "markdown",
     "metadata": {
      "variables": {}
     },
     "source": [
      "Measure the graph's properties during rewiring\n",
      "===="
     ]
    },
    {
     "cell_type": "code",
     "collapsed": false,
     "input": [
      "Cs = array(Cs)\n",
      "C_locals = array(C_locals)\n",
      "\n",
      "plot(arange(k+1)/k,Cs/Cs[0], color='b', label=\"Total (Triange Density)\")\n",
      "plot(arange(k+1)/k, C_locals/C_locals[0], color='r', label=\"Avg. Local\")\n",
      "ylabel(\"Clustering Increase From Initial\")\n",
      "title(\"Clustering Goes Up, With Two Definitions\")\n",
      "xlabel(\"Percent of Rewirings\")\n",
      "\n",
      "lg = legend(loc=4)\n",
      "lg.draw_frame(False)\n",
      "\n",
      "ax = gca()\n",
      "ax.spines['top'].set_visible(False)\n",
      "ax.spines['right'].set_visible(False)\n",
      "ax.get_xaxis().tick_bottom()\n",
      "ax.get_yaxis().tick_left()\n"
     ],
     "language": "python",
     "metadata": {},
     "outputs": [
      {
       "metadata": {},
       "output_type": "display_data",
       "png": "[encoded data removed]",
       "text": [
        "<matplotlib.figure.Figure at 0x10bccbac8>"
       ]
      }
     ],
     "prompt_number": 507
    }
   ],
   "metadata": {}
  }
 ]
}