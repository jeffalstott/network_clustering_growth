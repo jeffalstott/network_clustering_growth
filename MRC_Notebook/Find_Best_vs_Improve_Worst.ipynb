{
 "metadata": {
  "name": "",
  "signature": "sha256:cba57f7d7540193fd66cd84afee7da18ecbe7e60035d8d2ee98f4fe423234ac1"
 },
 "nbformat": 3,
 "nbformat_minor": 0,
 "worksheets": [
  {
   "cells": [
    {
     "cell_type": "markdown",
     "metadata": {
      "variables": {}
     },
     "source": [
      "Setup\n",
      "===="
     ]
    },
    {
     "cell_type": "code",
     "collapsed": false,
     "input": [
      "import seaborn\n",
      "import pandas as pd\n",
      "%pylab inline"
     ],
     "language": "python",
     "metadata": {},
     "outputs": [
      {
       "output_type": "stream",
       "stream": "stdout",
       "text": [
        "Populating the interactive namespace from numpy and matplotlib\n"
       ]
      }
     ],
     "prompt_number": 1
    },
    {
     "cell_type": "markdown",
     "metadata": {
      "variables": {}
     },
     "source": [
      "Define the algorithm\n",
      "===="
     ]
    },
    {
     "cell_type": "code",
     "collapsed": false,
     "input": [
      "def one_move_find_best(A, A2, fixed):\n",
      "    most_wedges_order = argsort(A2.ravel())[::-1]\n",
      "    doorways = array(unravel_index(most_wedges_order, shape(A2)))\n",
      "    for doorway_index in range(doorways.shape[1]):\n",
      "        doorway = tuple(doorways[:,doorway_index])\n",
      "        if A[doorway]: #There's already an edge there\n",
      "            continue\n",
      "        if doorway[0]==doorway[1]: #The proposed target is a self link\n",
      "            continue\n",
      "#         print(doorway)\n",
      "        door = find_door(A, doorway, A2, fixed)\n",
      "        if door:\n",
      "            hinge, target, latch = door\n",
      "            A, fixed = swing_door(A, hinge, target, latch, fixed)\n",
      "            return A, hinge, target, latch\n",
      "    return None\n",
      "    \n",
      "def find_door(A, sides_of_doorway, A2, fixed):\n",
      "    \n",
      "    wedges_across_doorway = A2[sides_of_doorway]    \n",
      "    \n",
      "    def find_door_helper(hinge, latch, A, A2, fixed, wedges_across_doorway):\n",
      "        latch_degree = A[latch].sum()\n",
      "        neighbors_of_hinge = A[hinge].astype('bool')\n",
      "        neighbors_degrees = A.sum(axis=1)\n",
      "        wedges_across_candidate_doors = A2[hinge]        \n",
      "        candidate_doors_not_fixed = ~fixed[hinge]\n",
      "        candidate_doors = (neighbors_of_hinge * \n",
      "                           (wedges_across_doorway > wedges_across_candidate_doors) *\n",
      "                           (neighbors_degrees > latch_degree) * \n",
      "                           candidate_doors_not_fixed\n",
      "                           )\n",
      "        if any(candidate_doors):\n",
      "            best_door_for_this_hinge = ma.masked_array(A2[hinge], mask=~candidate_doors.astype('bool')).argmin()\n",
      "            return best_door_for_this_hinge\n",
      "        else:\n",
      "            return None\n",
      "\n",
      "    best_doors = [find_door_helper(sides_of_doorway[0], sides_of_doorway[1], A, A2, fixed, wedges_across_doorway),\n",
      "                  find_door_helper(sides_of_doorway[1], sides_of_doorway[0], A, A2, fixed, wedges_across_doorway)]\n",
      "    if best_doors[0] is None and best_doors[1] is None:\n",
      "        return None\n",
      "    elif best_doors[0] is None:\n",
      "        best_door_index = 1\n",
      "    elif best_doors[1] is None:\n",
      "        best_door_index = 0\n",
      "    else:\n",
      "        best_door_index = argmin(A2[sides_of_doorway, best_doors])\n",
      "\n",
      "    hinge = sides_of_doorway[best_door_index]\n",
      "    target_neighbor = best_doors[best_door_index]\n",
      "    latch = sides_of_doorway[not(best_door_index)]\n",
      "\n",
      "    return hinge, target_neighbor, latch            \n",
      "\n",
      "\n",
      "def swing_door(A, hinge, target_neighbor, latch, fixed):\n",
      "    A[hinge, target_neighbor] = 0\n",
      "    A[target_neighbor, hinge] = 0\n",
      "    A[hinge, latch] = 1\n",
      "    A[latch, hinge] = 1\n",
      "\n",
      "    fixed[hinge, latch] = True\n",
      "    fixed[latch, hinge] = True\n",
      "\n",
      "    return A, fixed\n",
      "\n",
      "\n",
      "def one_move_improve_worst(A, A2, fixed):\n",
      "    most_wedges_order = argsort(A2.ravel()) ##Sorted from least to most\n",
      "    doors = array(unravel_index(most_wedges_order, shape(A2)))\n",
      "    for door_index in range(doors.shape[1]):\n",
      "        door = tuple(doors[:,door_index])\n",
      "        if not A[door]: #There's not an edge there\n",
      "            continue\n",
      "        if fixed[door]: #If the edge there has already been moved\n",
      "            continue\n",
      "        if door[0]==door[1]: #The proposed target is a self link\n",
      "            continue\n",
      "#         print(door)\n",
      "\n",
      "        doorway = find_doorway(A, door, A2, fixed)\n",
      "        if doorway:\n",
      "            hinge, door_stop, latch = doorway\n",
      "            A, fixed = swing_door(A, hinge, door_stop, latch, fixed)\n",
      "            return A, hinge, door_stop, latch\n",
      "    return None\n",
      "\n",
      "def find_doorway(A, sides_of_door, A2, fixed):\n",
      "    \n",
      "    wedges_across_door = A2[sides_of_door]    \n",
      "    \n",
      "    def find_doorway_helper(hinge, edge_of_door, A, A2, fixed, wedges_across_door):\n",
      "        edge_of_door_degree = A[edge_of_door].sum()\n",
      "        neighbors_of_hinge = A[hinge].astype('bool')\n",
      "        neighbors_degrees = A.sum(axis=1)\n",
      "        wedges_across_candidate_doorways = A2[hinge]        \n",
      "        candidate_doorways = (~neighbors_of_hinge * \n",
      "                           (wedges_across_door < wedges_across_candidate_doorways) *\n",
      "                           (neighbors_degrees < edge_of_door_degree)\n",
      "                           )\n",
      "        candidate_doorways[hinge] = False #Can't connect to itself!\n",
      "        if any(candidate_doorways):\n",
      "            best_doorway_for_this_hinge = ma.masked_array(A2[hinge], mask=~candidate_doorways.astype('bool')).argmax()\n",
      "            return best_doorway_for_this_hinge\n",
      "        else:\n",
      "            return None\n",
      "\n",
      "    best_doorways = [find_doorway_helper(sides_of_door[0], sides_of_door[1], A, A2, fixed, wedges_across_door),\n",
      "                  find_doorway_helper(sides_of_door[1], sides_of_door[0], A, A2, fixed, wedges_across_door)]\n",
      "#     print(best_doorways)\n",
      "#     print(sides_of_door)\n",
      "    if best_doorways[0] is None and best_doorways[1] is None:\n",
      "        return None\n",
      "    elif best_doorways[0] is None:\n",
      "        best_doorway_index = 1\n",
      "    elif best_doorways[1] is None:\n",
      "        best_doorway_index = 0\n",
      "    else:\n",
      "        best_doorway_index = argmin(A2[sides_of_door, best_doorways])\n",
      "\n",
      "    hinge = sides_of_door[best_doorway_index]\n",
      "    latch = best_doorways[best_doorway_index]\n",
      "    door_stop = sides_of_door[not(best_doorway_index)]\n",
      "\n",
      "    return hinge, door_stop, latch            "
     ],
     "language": "python",
     "metadata": {},
     "outputs": [],
     "prompt_number": 2
    },
    {
     "cell_type": "code",
     "collapsed": false,
     "input": [
      "import networkx as nx\n",
      "def nt_np(G):\n",
      "    triangles=0 # 6 times number of triangles\n",
      "    contri=0  # 2 times number of connected triples\n",
      "    for v,d,t in nx.algorithms.cluster._triangles_and_degree_iter(G):\n",
      "        contri += d*(d-1)\n",
      "        triangles += t\n",
      "    if triangles==0: # we had no triangles or possible triangles\n",
      "        return 0.0, float(contri)\n",
      "    else:\n",
      "        return triangles/6.0, float(contri)/2.0"
     ],
     "language": "python",
     "metadata": {
      "code_folding": [
       81,
       94
      ]
     },
     "outputs": [],
     "prompt_number": 3
    },
    {
     "cell_type": "markdown",
     "metadata": {
      "variables": {}
     },
     "source": [
      "Create the initial graph\n",
      "==="
     ]
    },
    {
     "cell_type": "code",
     "collapsed": false,
     "input": [
      "n_nodes = 100\n",
      "p = 1.5*log(n_nodes)/n_nodes\n",
      "g = nx.erdos_renyi_graph(n=n_nodes, p=p)\n",
      "\n",
      "try_count = 1\n",
      "max_tries = 1000\n",
      "while not nx.is_connected(g):\n",
      "    g = nx.erdos_renyi_graph(n=n_nodes, p=p)\n",
      "    try_count += 1\n",
      "    if try_count>max_tries:\n",
      "        print(\"Can't make a connected graph. Tried %i times.\"%max_tries)\n",
      "        break\n",
      "\n",
      "original_graph = g.copy()\n",
      "\n",
      "print(\"Average degree: %.2f\"%mean(list(g.degree().values())))"
     ],
     "language": "python",
     "metadata": {},
     "outputs": [
      {
       "output_type": "stream",
       "stream": "stdout",
       "text": [
        "Average degree: 6.14\n"
       ]
      }
     ],
     "prompt_number": 26
    },
    {
     "cell_type": "markdown",
     "metadata": {
      "variables": {}
     },
     "source": [
      "Calculate with Find_Best\n",
      "====\n",
      "Find the optimal doorway for a link to move into, and find an adjacent door to rotate into it."
     ]
    },
    {
     "cell_type": "code",
     "collapsed": false,
     "input": [
      "### Get initial measurements of the original graph\n",
      "\n",
      "g = original_graph.copy()\n",
      "\n",
      "nt, np = nt_np(g)\n",
      "\n",
      "A = nx.adjacency_matrix(g).todense()\n",
      "A2 = A**2\n",
      "\n",
      "change_percentage = 1\n",
      "n_trials = floor(change_percentage*g.number_of_edges())\n",
      "nts = [nt]\n",
      "nps = [np]\n",
      "Cs = [nt/np]\n",
      "C_locals = [nx.average_clustering(g)]\n",
      "mean_k = [mean(list(g.degree().values()))]\n",
      "pl = [nx.average_shortest_path_length(g)]\n",
      "\n",
      "initial_degrees = g.degree().values()\n",
      "\n",
      "### Rewire graph\n",
      "fixed = zeros(shape(A), dtype=bool)\n",
      "print(\"Attempting %i edge rewires, out of %i edges\"%(n_trials, g.number_of_edges()))\n",
      "for k in arange(n_trials):\n",
      "    if not k%10:\n",
      "        print(\"Rewiring %i out of %i\"%(k,n_trials))\n",
      "\n",
      "    outputs = one_move_find_best(array(A), array(A2), fixed)\n",
      "    if not outputs:\n",
      "        print(\"Couldn't make a move!\")\n",
      "        break\n",
      "    else:\n",
      "        A_new, hinge, door_stop, latch = outputs\n",
      "    \n",
      "    g = nx.from_numpy_matrix(A_new)\n",
      "    mean_k.append(mean(list(g.degree().values())))\n",
      "    nt, np = nt_np(g)\n",
      "    nts.append(nt)\n",
      "    nps.append(np)\n",
      "    Cs.append(nt/np)\n",
      "    if Cs[-1]<Cs[-2]:\n",
      "        print(\"Clustering went down! That shouldn't happen!\")\n",
      "        print(\"Tried to move the link between %i to %i to %i and %i\"%(hinge, door_stop, hinge, latch))\n",
      "        break\n",
      "    pl.append(nx.average_shortest_path_length(g))\n",
      "    C_locals.append(nx.average_clustering(g))\n",
      "    \n",
      "    A = A_new\n",
      "    A2 = matrix(A)**2 \n",
      "\n",
      "print(\"Rewired %.1f percent of edges\"%(100*float(k)/n_trials))\n",
      "# end_degrees = g.degree().values()\n",
      "\n",
      "# rewired_graph = g.copy()"
     ],
     "language": "python",
     "metadata": {},
     "outputs": [
      {
       "output_type": "stream",
       "stream": "stdout",
       "text": [
        "Attempting 307 edge rewires, out of 307 edges\n",
        "Rewiring 0 out of 307\n",
        "Rewiring 10 out of 307"
       ]
      },
      {
       "output_type": "stream",
       "stream": "stdout",
       "text": [
        "\n",
        "Rewiring 20 out of 307"
       ]
      },
      {
       "output_type": "stream",
       "stream": "stdout",
       "text": [
        "\n",
        "Rewiring 30 out of 307"
       ]
      },
      {
       "output_type": "stream",
       "stream": "stdout",
       "text": [
        "\n",
        "Rewiring 40 out of 307"
       ]
      },
      {
       "output_type": "stream",
       "stream": "stdout",
       "text": [
        "\n",
        "Rewiring 50 out of 307"
       ]
      },
      {
       "output_type": "stream",
       "stream": "stdout",
       "text": [
        "\n",
        "Rewiring 60 out of 307"
       ]
      },
      {
       "output_type": "stream",
       "stream": "stdout",
       "text": [
        "\n",
        "Rewiring 70 out of 307"
       ]
      },
      {
       "output_type": "stream",
       "stream": "stdout",
       "text": [
        "\n",
        "Rewiring 80 out of 307"
       ]
      },
      {
       "output_type": "stream",
       "stream": "stdout",
       "text": [
        "\n",
        "Rewiring 90 out of 307"
       ]
      },
      {
       "output_type": "stream",
       "stream": "stdout",
       "text": [
        "\n",
        "Rewiring 100 out of 307"
       ]
      },
      {
       "output_type": "stream",
       "stream": "stdout",
       "text": [
        "\n",
        "Rewiring 110 out of 307"
       ]
      },
      {
       "output_type": "stream",
       "stream": "stdout",
       "text": [
        "\n",
        "Rewiring 120 out of 307"
       ]
      },
      {
       "output_type": "stream",
       "stream": "stdout",
       "text": [
        "\n",
        "Rewiring 130 out of 307"
       ]
      },
      {
       "output_type": "stream",
       "stream": "stdout",
       "text": [
        "\n",
        "Rewiring 140 out of 307"
       ]
      },
      {
       "output_type": "stream",
       "stream": "stdout",
       "text": [
        "\n",
        "Rewiring 150 out of 307"
       ]
      },
      {
       "output_type": "stream",
       "stream": "stdout",
       "text": [
        "\n",
        "Rewiring 160 out of 307"
       ]
      },
      {
       "output_type": "stream",
       "stream": "stdout",
       "text": [
        "\n",
        "Rewiring 170 out of 307"
       ]
      },
      {
       "output_type": "stream",
       "stream": "stdout",
       "text": [
        "\n",
        "Rewiring 180 out of 307"
       ]
      },
      {
       "output_type": "stream",
       "stream": "stdout",
       "text": [
        "\n",
        "Rewiring 190 out of 307"
       ]
      },
      {
       "output_type": "stream",
       "stream": "stdout",
       "text": [
        "\n",
        "Rewiring 200 out of 307"
       ]
      },
      {
       "output_type": "stream",
       "stream": "stdout",
       "text": [
        "\n",
        "Rewiring 210 out of 307"
       ]
      },
      {
       "output_type": "stream",
       "stream": "stdout",
       "text": [
        "\n",
        "Couldn't make a move!"
       ]
      },
      {
       "output_type": "stream",
       "stream": "stdout",
       "text": [
        "\n",
        "Rewired 69.7 percent of edges\n"
       ]
      }
     ],
     "prompt_number": 27
    },
    {
     "cell_type": "code",
     "collapsed": false,
     "input": [
      "find_best_Cs = array(Cs)\n",
      "find_best_pls = array(pl)"
     ],
     "language": "python",
     "metadata": {},
     "outputs": [],
     "prompt_number": 28
    },
    {
     "cell_type": "markdown",
     "metadata": {
      "variables": {}
     },
     "source": [
      "Calculate with Improve_Worst\n",
      "====\n",
      "Find the worst door, a link that spans very few wedges. Find the best doorway next to it that the door can rotate into."
     ]
    },
    {
     "cell_type": "code",
     "collapsed": false,
     "input": [
      "### Get initial measurements of the original graph\n",
      "\n",
      "g = original_graph.copy()\n",
      "\n",
      "nt, np = nt_np(g)\n",
      "\n",
      "A = nx.adjacency_matrix(g).todense()\n",
      "A2 = A**2\n",
      "\n",
      "change_percentage = 1\n",
      "n_trials = floor(change_percentage*g.number_of_edges())\n",
      "nts = [nt]\n",
      "nps = [np]\n",
      "Cs = [nt/np]\n",
      "C_locals = [nx.average_clustering(g)]\n",
      "mean_k = [mean(list(g.degree().values()))]\n",
      "pl = [nx.average_shortest_path_length(g)]\n",
      "\n",
      "initial_degrees = g.degree().values()\n",
      "\n",
      "### Rewire graph\n",
      "fixed = zeros(shape(A), dtype=bool)\n",
      "print(\"Attempting %i edge rewires, out of %i edges\"%(n_trials, g.number_of_edges()))\n",
      "for k in arange(n_trials):\n",
      "    if not k%10:\n",
      "        print(\"Rewiring %i out of %i\"%(k,n_trials))\n",
      "\n",
      "    outputs = one_move_improve_worst(array(A), array(A2), fixed)\n",
      "    if not outputs:\n",
      "        print(\"Couldn't make a move!\")\n",
      "        break\n",
      "    else:\n",
      "        A_new, hinge, door_stop, latch = outputs\n",
      "    \n",
      "    g = nx.from_numpy_matrix(A_new)\n",
      "    mean_k.append(mean(list(g.degree().values())))\n",
      "    nt, np = nt_np(g)\n",
      "    nts.append(nt)\n",
      "    nps.append(np)\n",
      "    Cs.append(nt/np)\n",
      "    if Cs[-1]<Cs[-2]:\n",
      "        print(\"Clustering went down! That shouldn't happen!\")\n",
      "        print(\"Tried to move the link between %i to %i to %i and %i\"%(hinge, door_stop, hinge, latch))\n",
      "        break\n",
      "    pl.append(nx.average_shortest_path_length(g))\n",
      "    C_locals.append(nx.average_clustering(g))\n",
      "    \n",
      "    A = A_new\n",
      "    A2 = matrix(A)**2 \n",
      "\n",
      "print(\"Rewired %.1f percent of edges\"%(100*float(k)/n_trials))\n",
      "# end_degrees = g.degree().values()\n",
      "\n",
      "# rewired_graph = g.copy()"
     ],
     "language": "python",
     "metadata": {},
     "outputs": [
      {
       "output_type": "stream",
       "stream": "stdout",
       "text": [
        "Attempting 307 edge rewires, out of 307 edges\n",
        "Rewiring 0 out of 307\n",
        "Rewiring 10 out of 307"
       ]
      },
      {
       "output_type": "stream",
       "stream": "stdout",
       "text": [
        "\n",
        "Rewiring 20 out of 307"
       ]
      },
      {
       "output_type": "stream",
       "stream": "stdout",
       "text": [
        "\n",
        "Rewiring 30 out of 307"
       ]
      },
      {
       "output_type": "stream",
       "stream": "stdout",
       "text": [
        "\n",
        "Rewiring 40 out of 307"
       ]
      },
      {
       "output_type": "stream",
       "stream": "stdout",
       "text": [
        "\n",
        "Rewiring 50 out of 307"
       ]
      },
      {
       "output_type": "stream",
       "stream": "stdout",
       "text": [
        "\n",
        "Rewiring 60 out of 307"
       ]
      },
      {
       "output_type": "stream",
       "stream": "stdout",
       "text": [
        "\n",
        "Rewiring 70 out of 307"
       ]
      },
      {
       "output_type": "stream",
       "stream": "stdout",
       "text": [
        "\n",
        "Rewiring 80 out of 307"
       ]
      },
      {
       "output_type": "stream",
       "stream": "stdout",
       "text": [
        "\n",
        "Rewiring 90 out of 307"
       ]
      },
      {
       "output_type": "stream",
       "stream": "stdout",
       "text": [
        "\n",
        "Rewiring 100 out of 307"
       ]
      },
      {
       "output_type": "stream",
       "stream": "stdout",
       "text": [
        "\n",
        "Rewiring 110 out of 307"
       ]
      },
      {
       "output_type": "stream",
       "stream": "stdout",
       "text": [
        "\n",
        "Rewiring 120 out of 307"
       ]
      },
      {
       "output_type": "stream",
       "stream": "stdout",
       "text": [
        "\n",
        "Rewiring 130 out of 307"
       ]
      },
      {
       "output_type": "stream",
       "stream": "stdout",
       "text": [
        "\n",
        "Rewiring 140 out of 307"
       ]
      },
      {
       "output_type": "stream",
       "stream": "stdout",
       "text": [
        "\n",
        "Rewiring 150 out of 307"
       ]
      },
      {
       "output_type": "stream",
       "stream": "stdout",
       "text": [
        "\n",
        "Rewiring 160 out of 307"
       ]
      },
      {
       "output_type": "stream",
       "stream": "stdout",
       "text": [
        "\n",
        "Rewiring 170 out of 307"
       ]
      },
      {
       "output_type": "stream",
       "stream": "stdout",
       "text": [
        "\n",
        "Rewiring 180 out of 307"
       ]
      },
      {
       "output_type": "stream",
       "stream": "stdout",
       "text": [
        "\n",
        "Rewiring 190 out of 307"
       ]
      },
      {
       "output_type": "stream",
       "stream": "stdout",
       "text": [
        "\n",
        "Rewiring 200 out of 307"
       ]
      },
      {
       "output_type": "stream",
       "stream": "stdout",
       "text": [
        "\n",
        "Rewiring 210 out of 307"
       ]
      },
      {
       "output_type": "stream",
       "stream": "stdout",
       "text": [
        "\n",
        "Rewiring 220 out of 307"
       ]
      },
      {
       "output_type": "stream",
       "stream": "stdout",
       "text": [
        "\n",
        "Couldn't make a move!"
       ]
      },
      {
       "output_type": "stream",
       "stream": "stdout",
       "text": [
        "\n",
        "Rewired 73.3 percent of edges\n"
       ]
      }
     ],
     "prompt_number": 29
    },
    {
     "cell_type": "code",
     "collapsed": false,
     "input": [
      "improve_worst_Cs = array(Cs)\n",
      "improve_worst_pls = array(pl)"
     ],
     "language": "python",
     "metadata": {},
     "outputs": [],
     "prompt_number": 30
    },
    {
     "cell_type": "markdown",
     "metadata": {
      "variables": {}
     },
     "source": [
      "Measure the graph's properties during rewiring\n",
      "===="
     ]
    },
    {
     "cell_type": "code",
     "collapsed": false,
     "input": [
      "plot(improve_worst_Cs/improve_worst_Cs[0], color='b', label=\"Improve Worst\")\n",
      "plot(find_best_Cs/find_best_Cs[0], color='r', label=\"Find Best\")\n",
      "ylabel(\"Clustering Increase From Initial\")\n",
      "title(\"Clustering Goes Up with Both Algorithms\")\n",
      "xlabel(\"Number of Rewires\")\n",
      "\n",
      "legend(loc=4)"
     ],
     "language": "python",
     "metadata": {},
     "outputs": [
      {
       "metadata": {},
       "output_type": "pyout",
       "prompt_number": 31,
       "text": [
        "<matplotlib.legend.Legend at 0x10adcab00>"
       ]
      },
      {
       "metadata": {},
       "output_type": "display_data",
       "png": "[encoded data removed]",
       "text": [
        "<matplotlib.figure.Figure at 0x10a8cd080>"
       ]
      }
     ],
     "prompt_number": 31
    },
    {
     "cell_type": "code",
     "collapsed": false,
     "input": [
      "plot(improve_worst_pls/improve_worst_pls[0], color='b', label=\"Improve Worst\")\n",
      "plot(find_best_pls/find_best_pls[0], color='r', label=\"Find Best\")\n",
      "ylabel(\"Path Length Increase From Initial\")\n",
      "title(\"Path Length Goes Up with Both Algorithms\")\n",
      "xlabel(\"Number of Rewires\")\n",
      "\n",
      "legend(loc=4)"
     ],
     "language": "python",
     "metadata": {},
     "outputs": [
      {
       "metadata": {},
       "output_type": "pyout",
       "prompt_number": 32,
       "text": [
        "<matplotlib.legend.Legend at 0x10ad4b2b0>"
       ]
      },
      {
       "metadata": {},
       "output_type": "display_data",
       "png": "[encoded data removed]",
       "text": [
        "<matplotlib.figure.Figure at 0x10ad98828>"
       ]
      }
     ],
     "prompt_number": 32
    },
    {
     "cell_type": "code",
     "collapsed": false,
     "input": [
      "improve_worst_swis = (improve_worst_Cs/improve_worst_Cs[0]) / (improve_worst_pls/improve_worst_pls[0])\n",
      "\n",
      "find_best_swis = (find_best_Cs/find_best_Cs[0]) / (find_best_pls/find_best_pls[0])\n",
      "\n",
      "plot(improve_worst_swis, color='b', label=\"Improve Worst\")\n",
      "plot(find_best_swis, color='r', label=\"Find Best\")\n",
      "\n",
      "ylabel(\"Small World Index\")\n",
      "xlabel(\"Number of Rewires\")\n",
      "title(\"Small World Index Grows with Rewiring, then Plateaus\")"
     ],
     "language": "python",
     "metadata": {},
     "outputs": [
      {
       "metadata": {},
       "output_type": "pyout",
       "prompt_number": 33,
       "text": [
        "<matplotlib.text.Text at 0x10f677898>"
       ]
      },
      {
       "metadata": {},
       "output_type": "display_data",
       "png": "[encoded data removed]",
       "text": [
        "<matplotlib.figure.Figure at 0x10ad4b2e8>"
       ]
      }
     ],
     "prompt_number": 33
    }
   ],
   "metadata": {}
  }
 ]
}